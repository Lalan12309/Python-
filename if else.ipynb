{
 "cells": [
  {
   "cell_type": "code",
   "execution_count": null,
   "id": "6b39c564",
   "metadata": {},
   "outputs": [],
   "source": [
    "Write a program to find greatest of four number entered by the user"
   ]
  },
  {
   "cell_type": "markdown",
   "id": "ffe2c106",
   "metadata": {},
   "source": [
    "num1 = int(input(\"Enter number 1: \"))\n",
    "num2 = int(input(\"Enter number 2: \"))\n",
    "num3 = int(input(\"Enter number 3: \"))\n",
    "num4 = int(input(\"Enter number 4: \"))\n",
    "if(num1>num4):\n",
    "    f1=num1\n",
    "else:\n",
    "    f1=num4\n",
    "if(num2>num3):\n",
    "    f2=num2\n",
    "else:\n",
    "    f2=num3\n",
    "if(f1>f2):\n",
    "     print(str(f1) +  \"is greatest\") \n",
    "else:\n",
    "     print(str(f2) + \"is greatest\")\n",
    "            \n",
    "    "
   ]
  },
  {
   "cell_type": "markdown",
   "id": "733d19d5",
   "metadata": {},
   "source": [
    "Write a program to find out wheather a Student  is pass or Fail,If It require total 40% and at least 33% in each Subject to pass.Assume 3 Subject and take mark as an input from the user."
   ]
  },
  {
   "cell_type": "code",
   "execution_count": 7,
   "id": "dd7f1510",
   "metadata": {},
   "outputs": [
    {
     "name": "stdout",
     "output_type": "stream",
     "text": [
      "Enter first subject mark\n",
      "40\n",
      "Enter second subject mark\n",
      "35\n",
      "Enter third subject mark\n",
      "35\n",
      "you are fail due to total % less than 40\n"
     ]
    }
   ],
   "source": [
    "sub1 =int(input(\"Enter first subject mark\\n\"))\n",
    "sub2 =int(input(\"Enter second subject mark\\n\"))\n",
    "sub3 =int(input(\"Enter third subject mark\\n\"))\n",
    "if(sub1<33 or sub2<33 or sub3<33):\n",
    "    print(\"you are fail because you have less than 33% of the subject\")\n",
    "elif(sub1+sub2+sub3)/3 <40:\n",
    "    print(\"you are fail due to total % less than 40\") \n",
    "else:\n",
    "    print(\"Congratulation! you are passed\")\n"
   ]
  },
  {
   "cell_type": "markdown",
   "id": "01c99bac",
   "metadata": {},
   "source": [
    "A spam comment is defined as a text cointaining following Keyword                  \"make a lot of money \",\"buy now\",\"Subscribe this\"                "
   ]
  }
 ],
 "metadata": {
  "kernelspec": {
   "display_name": "Python 3 (ipykernel)",
   "language": "python",
   "name": "python3"
  },
  "language_info": {
   "codemirror_mode": {
    "name": "ipython",
    "version": 3
   },
   "file_extension": ".py",
   "mimetype": "text/x-python",
   "name": "python",
   "nbconvert_exporter": "python",
   "pygments_lexer": "ipython3",
   "version": "3.10.9"
  }
 },
 "nbformat": 4,
 "nbformat_minor": 5
}
