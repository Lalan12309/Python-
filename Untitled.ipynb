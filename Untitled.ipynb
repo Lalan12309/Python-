{
 "cells": [
  {
   "attachments": {},
   "cell_type": "markdown",
   "id": "778b0e01",
   "metadata": {},
   "source": [
    "Program on selection and Iteration operation.\n",
    "1.Get an integer input from a user .If the number is odd,then find the factorial of a number is even,then check the given number is palidrome or not"
   ]
  },
  {
   "cell_type": "code",
   "execution_count": 9,
   "id": "8013cb68",
   "metadata": {},
   "outputs": [
    {
     "ename": "IndentationError",
     "evalue": "unindent does not match any outer indentation level (<tokenize>, line 7)",
     "output_type": "error",
     "traceback": [
      "\u001b[1;36m  File \u001b[1;32m<tokenize>:7\u001b[1;36m\u001b[0m\n\u001b[1;33m    rev=rev*10+digit\u001b[0m\n\u001b[1;37m    ^\u001b[0m\n\u001b[1;31mIndentationError\u001b[0m\u001b[1;31m:\u001b[0m unindent does not match any outer indentation level\n"
     ]
    }
   ],
   "source": [
    "num=int(input('Enter a number:'))\n",
    "if num%2==0:\n",
    "    rev=0\n",
    "    temp=num\n",
    "while(num>0):\n",
    "    digit=num%10\n",
    "    rev=rev*10+digit\n",
    "    num=num//10\n",
    "    if(rev==temp):\n",
    "            print('The given number is palindrome')\n",
    "    else:\n",
    "     print('The given number is not palindrome')\n",
    "else:\n",
    " def factorial(num):\n",
    "    if num==1:\n",
    "     return num\n",
    "    else:\n",
    "     return num*factorial(num-1)\n",
    "print('The factorial of',num,'is',factorial(num))\n",
    "count=0\n",
    "n=factorial(n) \n",
    "while(n>0):\n",
    " n=n//10\n",
    "count=count\n",
    "print('The number of digit is the factoprial of a number is',count)"
   ]
  },
  {
   "cell_type": "code",
   "execution_count": null,
   "id": "c44028d6",
   "metadata": {},
   "outputs": [],
   "source": []
  },
  {
   "cell_type": "code",
   "execution_count": null,
   "id": "bc82b136",
   "metadata": {},
   "outputs": [],
   "source": []
  }
 ],
 "metadata": {
  "kernelspec": {
   "display_name": "Python 3 (ipykernel)",
   "language": "python",
   "name": "python3"
  },
  "language_info": {
   "codemirror_mode": {
    "name": "ipython",
    "version": 3
   },
   "file_extension": ".py",
   "mimetype": "text/x-python",
   "name": "python",
   "nbconvert_exporter": "python",
   "pygments_lexer": "ipython3",
   "version": "3.10.9"
  }
 },
 "nbformat": 4,
 "nbformat_minor": 5
}
