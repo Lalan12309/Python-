{
 "cells": [
  {
   "cell_type": "markdown",
   "id": "cc7310b8",
   "metadata": {},
   "source": [
    "TO WRITE A PYTHON PROGRAM TO CHECK IF A SET IS A SUBSET OF ANOTHER SET"
   ]
  },
  {
   "cell_type": "code",
   "execution_count": 1,
   "id": "225899d6",
   "metadata": {},
   "outputs": [
    {
     "name": "stdout",
     "output_type": "stream",
     "text": [
      "x: {33, 99, 'mango', 45, 'apple'}\n",
      "y: {33, 'mango'}\n",
      "z: {'mango'} \n",
      "\n",
      "Checking whether X is subset of Y.....\n",
      "\n",
      "The set X is not the subset of Y\n",
      "\n",
      "Checking whether Y is subset of X.....\n",
      "\n",
      "The set Y is the subset of X\n",
      "\n",
      "Checking whether Y is subset of Z.....\n",
      "\n",
      "The set Y is not the subset of Z\n",
      "\n",
      "Checking whether Z is subset of Y.....\n",
      "\n",
      "The set Z is the subset of Y\n",
      "\n"
     ]
    }
   ],
   "source": [
    "setx=set([\"apple\",\"mango\",45,33,99])\n",
    "sety=set([\"mango\",\"mango\",33])\n",
    "setz=set([\"mango\"]) \n",
    "print(\"x:\",setx) \n",
    "print(\"y:\",sety)\n",
    "print(\"z:\",setz,\"\\n\")\n",
    "print(\"Checking whether X is subset of Y.....\\n\")\n",
    "if(setx.issubset(sety)==True):\n",
    "    print(\"The set X is the subset of Y\\n\")\n",
    "else: print(\"The set X is not the subset of Y\\n\") \n",
    "print(\"Checking whether Y is subset of X.....\\n\") \n",
    "if(sety.issubset(setx)==True): \n",
    "    print(\"The set Y is the subset of X\\n\")\n",
    "else: print(\"The set Y is not the subset of X\\n\")\n",
    "print(\"Checking whether Y is subset of Z.....\\n\") \n",
    "if(sety.issubset(setz)==True):\n",
    "    print(\"The set Y is the subset of Z\\n\") \n",
    "else: print(\"The set Y is not the subset of Z\\n\")\n",
    "print(\"Checking whether Z is subset of Y.....\\n\")\n",
    "if(setz.issubset(sety)==True):\n",
    "    print(\"The set Z is the subset of Y\\n\")\n",
    "else: print(\"The set z is not the subset of Y\\n\")"
   ]
  },
  {
   "cell_type": "markdown",
   "id": "59b56d77",
   "metadata": {},
   "source": [
    "PYTHON PROGRAM TO ITERATE OVER DICTIONARY USING FOR LOOP"
   ]
  },
  {
   "cell_type": "code",
   "execution_count": null,
   "id": "2880cdf5",
   "metadata": {},
   "outputs": [],
   "source": [
    "color={ }\n",
    "n=int(input(\"Enter the number of the element :\"))\n",
    "for i in range(n):\n",
    "    key=input(\"Enter the key:\")\n",
    "    value=input(\"Enter the value:\")\n",
    "    color[key]=value\n",
    "print(\"Dictionary elements are:\\n\")\n",
    "for key,value in color.items():\n",
    "    print(key,value)"
   ]
  },
  {
   "cell_type": "markdown",
   "id": "230079a1",
   "metadata": {},
   "source": [
    "NUMPY PROGRAM TO CONVERT A LIST OF NUMBERIC VALUE INTO A ONE-DIMENSIONAL NUMPY ARRAY"
   ]
  },
  {
   "cell_type": "code",
   "execution_count": null,
   "id": "fa2706b0",
   "metadata": {},
   "outputs": [],
   "source": [
    "import numpy as np\n",
    "l=list(map(float,input(\"Type number with space: \").split()))\n",
    "print(\"Original List:\",l)\n",
    "a=np.array(l)\n",
    "print(\"One-dimensiomnal Numpy array:\",a)"
   ]
  },
  {
   "cell_type": "code",
   "execution_count": null,
   "id": "3ae85eba",
   "metadata": {},
   "outputs": [],
   "source": []
  }
 ],
 "metadata": {
  "kernelspec": {
   "display_name": "Python 3 (ipykernel)",
   "language": "python",
   "name": "python3"
  },
  "language_info": {
   "codemirror_mode": {
    "name": "ipython",
    "version": 3
   },
   "file_extension": ".py",
   "mimetype": "text/x-python",
   "name": "python",
   "nbconvert_exporter": "python",
   "pygments_lexer": "ipython3",
   "version": "3.10.9"
  }
 },
 "nbformat": 4,
 "nbformat_minor": 5
}
